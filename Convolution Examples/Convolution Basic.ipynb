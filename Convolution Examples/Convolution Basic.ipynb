{
 "cells": [
  {
   "cell_type": "code",
   "execution_count": 13,
   "metadata": {},
   "outputs": [],
   "source": [
    "import tensorflow as tf\n",
    "import matplotlib.pyplot as plt\n",
    "%matplotlib inline\n",
    "\n",
    "def tfg_eval(sess, df, x, x_vals):\n",
    "    assert len(x)==len(x_vals), \"must have the same number of values and variables\"\n",
    "\n",
    "    x_vals = x_vals.reshape(-1,1)\n",
    "\n",
    "    result = np.array(sess.run(df, feed_dict={x:y[0] for x, y in zip(x,x_vals)}))\n",
    "    return result\n",
    "\n",
    "def py_rosenbrock(x):\n",
    "    return sum((x[1:]-x[:-1]**2.0)**2.0 + (1-x[:-1])**2.0)\n",
    "\n",
    "def plot_contour(f, x_points=None, y_points=None,  x_range=np.arange(-2, 2, .1), y_range=np.arange(-2, 2, .1),):\n",
    "    X, Y = np.meshgrid(x_range, y_range)\n",
    "    print (\"Mesh size\", X.shape)\n",
    "    Z = np.array([[f(np.array([X[i,j], Y[i,j]])) for j in range(len(X[i]))] for i in range(len(X))])\n",
    "    CS = plt.contourf(X, Y, Z, 20, cmap=plt.cm.hot)\n",
    "    if x_points is not None:\n",
    "        plt.scatter(x_points, y_points, c=\"white\")\n",
    "    return X, Y, Z\n",
    "\n",
    "\n",
    "def get_df(N):\n",
    "\n",
    "    tf.reset_default_graph()\n",
    "    \n",
    "    x = [tf.Variable(initial_value= 0.0, name= \"x\", dtype = tf.float32) for i in range(N)]\n",
    "    f = tf.reduce_sum([tf.pow(x[i]-tf.pow(x[i-1],2.0),2.0)+tf.pow((1-x[i-1]),2.0) for i in range(1,len(x))])\n",
    "\n",
    "    df = tf.gradients(f,x)\n",
    "\n",
    "    return x, f, df"
   ]
  },
  {
   "cell_type": "markdown",
   "metadata": {},
   "source": [
    "## Convolución \n",
    "La convolución es una operación básica en el tratamiento de imágenes. La figura siguiente lo ilustra. Dada una máscara (de tamaño 3x3 en este caso) se va deslizando por las distintas posiciones de la imagen. En cada paso, se multipica cada elemento de la máscara con los valores de los pixeles con los que corresonde en la imagen y, finalmente, se suman los valores obtenidos (nueve valores en este caso).\n",
    "Dependiendo del valor de la máscara obtendremos distintos efectos y propiedades (_features_) de la imagen."
   ]
  },
  {
   "cell_type": "code",
   "execution_count": 5,
   "metadata": {},
   "outputs": [],
   "source": [
    "import numpy as np\n",
    "\n",
    "def convolution(A, f):\n",
    "    cols = A.shape[1]-f.shape[1]+1\n",
    "    rows = A.shape[0]-f.shape[0]+1\n",
    " \n",
    "    if cols<=0 or rows<=0:\n",
    "        raise ValueError(\"filter must be smaller than matrix\")\n",
    "\n",
    "    result = np.zeros((cols,rows))\n",
    "\n",
    "    for i in range(rows):\n",
    "        for j in range(cols):\n",
    "            result[i,j]=sum(sum(A[i:i+f.shape[0],j:j+f.shape[1]]*f))\n",
    "    return result"
   ]
  },
  {
   "cell_type": "code",
   "execution_count": 11,
   "metadata": {},
   "outputs": [
    {
     "name": "stdout",
     "output_type": "stream",
     "text": [
      "[[22. 26. 22. 26.]\n [36. 36. 36. 36.]\n [54. 48. 54. 48.]\n [70. 62. 70. 62.]]\n"
     ]
    }
   ],
   "source": [
    "A = np.array([[1,2,1,2,1,2],\n",
    "              [2,3,2,3,2,3],\n",
    "              [4,3,4,3,4,3],\n",
    "              [6,4,6,4,6,4],\n",
    "              [7,5,7,5,7,5]])\n",
    "f = np.array([[2,2,2],\n",
    "              [2,2,2]])\n",
    "res = convolution(A,f)\n",
    "print(res)"
   ]
  },
  {
   "cell_type": "code",
   "execution_count": 12,
   "metadata": {},
   "outputs": [
    {
     "name": "stdout",
     "output_type": "stream",
     "text": [
      "[[22 26 22 26]\n [36 36 36 36]\n [54 48 54 48]\n [70 62 70 62]]\n"
     ]
    }
   ],
   "source": [
    "from scipy.signal import convolve2d\n",
    "res = convolve2d(A, f, mode=\"valid\")\n",
    "print(res)"
   ]
  },
  {
   "cell_type": "markdown",
   "metadata": {},
   "source": [
    "# Gradiente descendiente en TensorFlow\n"
   ]
  },
  {
   "cell_type": "code",
   "execution_count": 14,
   "metadata": {},
   "outputs": [],
   "source": [
    "def gd(N=2, x_init=None, step_size=0.1, max_steps=300, min_delta=1e-4):\n",
    "    plot = N==2\n",
    "    x, f, df = get_df(N)\n",
    "\n",
    "    r = np.array(x_init).astype(np.float) if x_init is not None else np.random.random(size=N)*3-1.5\n",
    "    r_list = [r.copy()]\n",
    "\n",
    "    if plot:\n",
    "        plot_contour(py_rosenbrock, x_points=[1], y_points=[1])\n",
    "    with tf.Session() as sess:\n",
    "\n",
    "        for i in range(max_steps):\n",
    "\n",
    "            gradient = tfg_eval(sess, df, x,r)\n",
    "            delta    = gradient*step_size\n",
    "\n",
    "            if np.linalg.norm(delta)<min_delta:\n",
    "                break\n",
    "\n",
    "            if plot:\n",
    "                plt.arrow(r[0], r[1], -delta[0], -delta[1], head_width=0.05, head_length=0.1, fc='white', ec='white')\n",
    "\n",
    "            r -= delta\n",
    "            r_list += [r.copy()]\n",
    "    return r"
   ]
  },
  {
   "cell_type": "code",
   "execution_count": 15,
   "metadata": {},
   "outputs": [
    {
     "name": "stdout",
     "output_type": "stream",
     "text": [
      "Mesh size (40, 40)\n"
     ]
    },
    {
     "data": {
      "text/plain": [
       "array([0.99890475, 0.99735676])"
      ]
     },
     "execution_count": 15,
     "metadata": {},
     "output_type": "execute_result"
    },
    {
     "data": {
      "image/png": "[encoded data removed]",
      "text/plain": [
       "<Figure size 432x288 with 1 Axes>"
      ]
     },
     "metadata": {},
     "output_type": "display_data"
    }
   ],
   "source": [
    "gd()"
   ]
  },
  {
   "cell_type": "code",
   "execution_count": 10,
   "metadata": {},
   "outputs": [],
   "source": []
  }
 ],
 "metadata": {
  "kernelspec": {
   "display_name": "Python 3",
   "language": "python",
   "name": "python3"
  },
  "language_info": {
   "codemirror_mode": {
    "name": "ipython",
    "version": 3
   },
   "file_extension": ".py",
   "mimetype": "text/x-python",
   "name": "python",
   "nbconvert_exporter": "python",
   "pygments_lexer": "ipython3",
   "version": "3.6.5"
  }
 },
 "nbformat": 4,
 "nbformat_minor": 2
}
